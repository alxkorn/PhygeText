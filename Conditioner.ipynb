{
 "cells": [
  {
   "cell_type": "code",
   "execution_count": 166,
   "metadata": {
    "collapsed": true
   },
   "outputs": [],
   "source": [
    "from TextNormalizer import TextNormalizer\n",
    "from flashtext import KeywordProcessor\n",
    "import re\n",
    "import pickle"
   ]
  },
  {
   "cell_type": "code",
   "execution_count": 152,
   "metadata": {
    "collapsed": false
   },
   "outputs": [],
   "source": [
    "def save_bin(fname,var):\n",
    "    with open(fname,'wb') as fp:\n",
    "        pickle.dump(var,fp)"
   ]
  },
  {
   "cell_type": "code",
   "execution_count": 74,
   "metadata": {
    "collapsed": false
   },
   "outputs": [],
   "source": [
    "def load_bin(fname):\n",
    "    with open(fname,'rb') as fp:\n",
    "        return pickle.load(fp)"
   ]
  },
  {
   "cell_type": "code",
   "execution_count": 86,
   "metadata": {
    "collapsed": true
   },
   "outputs": [],
   "source": [
    "def load_txt(fname,vec_delim = '/',phrase_delim='\\n'):\n",
    "    with open(fname) as f:\n",
    "        return [list(filter(lambda x: x!='',elem.split(phrase_delim))) for elem in f.read().split(vec_delim)]"
   ]
  },
  {
   "cell_type": "code",
   "execution_count": 103,
   "metadata": {
    "collapsed": true
   },
   "outputs": [],
   "source": [
    "def normalize_vecs(vecs):\n",
    "    return [[' '.join(TextNormalizer.normalize(phrase)) for phrase in vec] for vec in vecs]"
   ]
  },
  {
   "cell_type": "code",
   "execution_count": 104,
   "metadata": {
    "collapsed": false
   },
   "outputs": [],
   "source": [
    "def normalize_docs(docs):\n",
    "    return [' '.join(TextNormalizer.normalize(doc)) for doc in docs]"
   ]
  },
  {
   "cell_type": "code",
   "execution_count": 162,
   "metadata": {
    "collapsed": true
   },
   "outputs": [],
   "source": [
    "docs = load_bin('docs.txt')"
   ]
  },
  {
   "cell_type": "code",
   "execution_count": 180,
   "metadata": {
    "collapsed": false
   },
   "outputs": [
    {
     "data": {
      "text/plain": [
       "['<h1>Обслуживание кондиционеров</h1> Какой бы ни была цена на сервисное обслуживание кондиционеров, а заниматься поломанными или вышедшими из строя кондиционерами всё равно рано или поздно нужно',\n",
       " 'Однако если вы дорожите не только своим аппаратом, но и денежными средствами – закажите техническое обслуживание кондиционеров у нас, ведь мы предлагаем самую низкую стоимость на услуги',\n",
       " ' Кстати, если вам пока обслуживать по сути ничего, потому что вы так и не приобрели кондиционер, то вам стоит обратить внимание на наш <h href=“на_группу_1”магазин кондиционеров</a>',\n",
       " 'Вероятно, после покупки и установки вам потребуется масса других услуг по сервису вашего кондиционера',\n",
       " 'Итак, к списку услуг по обслуживанию кондиционеров в нашем сервисном центре мы относим: ремонт сплит систем, установка новых сплитов, чистка, замена комплектующих',\n",
       " 'Кроме того, предлагаем диагностику и регулярную замену труб',\n",
       " 'Если вас интересует, сколько стоит обслуживание именно вашего кондиционера – обратитесь по телефонам, указанным на сайте, или приходите в наш офис, чтобы обсудить прайс напрямую с мастером',\n",
       " 'Обратите внимание, что мы обслуживаем кондиционеры вне зависимости от фирмы их производителя',\n",
       " 'Чаще всего к нам обращаются пользователи марок Daikin, Mitsubishi, Panasonic, LG',\n",
       " 'Если вы – всё еще потенциальный обладатель кондиционера, то вам пригодится информация о том, <a href=”на_группу_4”как выбрать кондиционер для квартиры</a>.']"
      ]
     },
     "execution_count": 180,
     "metadata": {},
     "output_type": "execute_result"
    }
   ],
   "source": [
    "re.split('\\. |! |\\?',docs[1])"
   ]
  },
  {
   "cell_type": "code",
   "execution_count": 154,
   "metadata": {
    "collapsed": false
   },
   "outputs": [],
   "source": [
    "nvecs = load_bin('nvecs')\n",
    "ndocs = load_bin('ndocs')"
   ]
  },
  {
   "cell_type": "code",
   "execution_count": 186,
   "metadata": {
    "collapsed": true
   },
   "outputs": [],
   "source": [
    "test1 = [' '.join(TextNormalizer.normalize(sent)) for sent in re.split('\\. |! |\\?',docs[1])]"
   ]
  },
  {
   "cell_type": "code",
   "execution_count": 190,
   "metadata": {
    "collapsed": false
   },
   "outputs": [
    {
     "data": {
      "text/plain": [
       "['h1 обслуживание кондиционер h1 цена сервисный обслуживание кондиционер заниматься поломать выйти строй кондиционер равно рано поздно',\n",
       " 'однако дорожить аппарат денежный средство заказать технический обслуживание кондиционер предлагать низкий стоимость услуга',\n",
       " 'кстати обслуживать суть ничто приобрести кондиционер стоить обратить внимание href на_группу_1 магазин кондиционер',\n",
       " 'вероятно покупка установка потребоваться масса услуга сервис кондиционер',\n",
       " 'итак список услуга обслуживание кондиционер сервисный центр относить ремонт сплит система установка новый сплит чистка замена комплектовать',\n",
       " 'кроме предлагать диагностик регулярный замена труба',\n",
       " 'интересовать сколько стоить обслуживание именно кондиционер обратиться телефон указанный сайт приходить офис обсудить прайс напрямую мастер',\n",
       " 'обратить внимание обслуживать кондиционер вне зависимость фирма производитель',\n",
       " 'чаща обращаться пользователь марка daikin mitsubishi panasonic lg',\n",
       " 'потенциальный обладатель кондиционер пригодиться информация href на_группу_4 выбрать кондиционер квартира']"
      ]
     },
     "execution_count": 190,
     "metadata": {},
     "output_type": "execute_result"
    }
   ],
   "source": [
    "test1"
   ]
  },
  {
   "cell_type": "code",
   "execution_count": 209,
   "metadata": {
    "collapsed": true
   },
   "outputs": [],
   "source": [
    "def locate_phrase(phrase, sentence):\n",
    "    ph_words = phrase.split()\n",
    "    keyword_processor = KeywordProcessor()\n",
    "    for word in ph_words:\n",
    "        keyword_processor.add_keyword(word)\n",
    "    found_words = ' '.join(keyword_processor.extract_keywords(sentence))\n",
    "    keyword_processor = KeywordProcessor()\n",
    "    keyword_processor.add_keyword(phrase)\n",
    "    for elem in found_words:\n",
    "        found = keyword_processor.extract_keywords(found_words)\n",
    "        if found:\n",
    "            return found\n",
    "    return []"
   ]
  },
  {
   "cell_type": "code",
   "execution_count": 210,
   "metadata": {
    "collapsed": false
   },
   "outputs": [],
   "source": [
    "tt = [locate_phrase('сколько стоить обслуживание кондиционер',sent) for sent in test1]"
   ]
  },
  {
   "cell_type": "code",
   "execution_count": 211,
   "metadata": {
    "collapsed": false
   },
   "outputs": [
    {
     "data": {
      "text/plain": [
       "[[],\n",
       " [],\n",
       " [],\n",
       " [],\n",
       " [],\n",
       " [],\n",
       " ['сколько стоить обслуживание кондиционер'],\n",
       " [],\n",
       " [],\n",
       " []]"
      ]
     },
     "execution_count": 211,
     "metadata": {},
     "output_type": "execute_result"
    }
   ],
   "source": [
    "tt"
   ]
  },
  {
   "cell_type": "code",
   "execution_count": 160,
   "metadata": {
    "collapsed": false
   },
   "outputs": [
    {
     "data": {
      "text/plain": [
       "[('обслуживание', 3, 15),\n",
       " ('кондиционер', 16, 27),\n",
       " ('обслуживание', 46, 58),\n",
       " ('кондиционер', 59, 70),\n",
       " ('кондиционер', 103, 114),\n",
       " ('обслуживание', 196, 208),\n",
       " ('кондиционер', 209, 220),\n",
       " ('кондиционер', 297, 308),\n",
       " ('стоить', 309, 315),\n",
       " ('кондиционер', 359, 370),\n",
       " ('кондиционер', 432, 443),\n",
       " ('обслуживание', 463, 475),\n",
       " ('кондиционер', 476, 487),\n",
       " ('сколько', 649, 656),\n",
       " ('стоить', 657, 663),\n",
       " ('обслуживание', 664, 676),\n",
       " ('кондиционер', 684, 695),\n",
       " ('кондиционер', 806, 817),\n",
       " ('кондиционер', 945, 956),\n",
       " ('кондиционер', 1005, 1016)]"
      ]
     },
     "execution_count": 160,
     "metadata": {},
     "output_type": "execute_result"
    }
   ],
   "source": [
    "locate_phrase('сколько стоить обслуживание кондиционер',ndocs[1])"
   ]
  },
  {
   "cell_type": "code",
   "execution_count": 143,
   "metadata": {
    "collapsed": true
   },
   "outputs": [],
   "source": [
    "def relevance(vec,doc):\n",
    "    keyword_processor = KeywordProcessor()\n",
    "    for phrase in vec:\n",
    "        keyword_processor.add_keyword(phrase)\n",
    "    found_phrases = keyword_processor.extract_keywords(doc)\n",
    "    relevance = len(found_phrases)/len(vec)\n",
    "    missing_phrases = set(vec).difference(set(found_phrases))\n",
    "    return relevance, missing_phrases"
   ]
  },
  {
   "cell_type": "code",
   "execution_count": 161,
   "metadata": {
    "collapsed": false
   },
   "outputs": [
    {
     "data": {
      "text/plain": [
       "'<h1>Обслуживание кондиционеров</h1> Какой бы ни была цена на сервисное обслуживание кондиционеров, а заниматься поломанными или вышедшими из строя кондиционерами всё равно рано или поздно нужно. Однако если вы дорожите не только своим аппаратом, но и денежными средствами – закажите техническое обслуживание кондиционеров у нас, ведь мы предлагаем самую низкую стоимость на услуги.  Кстати, если вам пока обслуживать по сути ничего, потому что вы так и не приобрели кондиционер, то вам стоит обратить внимание на наш <h href=“на_группу_1”магазин кондиционеров</a>. Вероятно, после покупки и установки вам потребуется масса других услуг по сервису вашего кондиционера. Итак, к списку услуг по обслуживанию кондиционеров в нашем сервисном центре мы относим: ремонт сплит систем, установка новых сплитов, чистка, замена комплектующих. Кроме того, предлагаем диагностику и регулярную замену труб. Если вас интересует, сколько стоит обслуживание именно вашего кондиционера – обратитесь по телефонам, указанным на сайте, или приходите в наш офис, чтобы обсудить прайс напрямую с мастером. Обратите внимание, что мы обслуживаем кондиционеры вне зависимости от фирмы их производителя. Чаще всего к нам обращаются пользователи марок Daikin, Mitsubishi, Panasonic, LG. Если вы – всё еще потенциальный обладатель кондиционера, то вам пригодится информация о том, <a href=”на_группу_4”как выбрать кондиционер для квартиры</a>.'"
      ]
     },
     "execution_count": 161,
     "metadata": {},
     "output_type": "execute_result"
    }
   ],
   "source": [
    "docs[1]"
   ]
  },
  {
   "cell_type": "code",
   "execution_count": 155,
   "metadata": {
    "collapsed": false
   },
   "outputs": [
    {
     "data": {
      "text/plain": [
       "(0.2,\n",
       " {'обслуживание бытовой кондиционер',\n",
       "  'обслуживание кондиционер daikin',\n",
       "  'обслуживание кондиционер lg',\n",
       "  'обслуживание кондиционер mitsubishi',\n",
       "  'обслуживание кондиционер panasonic',\n",
       "  'обслуживание кондиционер работа',\n",
       "  'обслуживание кондиционер сплит система',\n",
       "  'обслуживание кондиционер цена',\n",
       "  'обслуживание сплит система',\n",
       "  'прайс обслуживание кондиционер',\n",
       "  'разовый обслуживание кондиционер',\n",
       "  'расценка обслуживание кондиционер',\n",
       "  'ремонт бытовой кондиционер',\n",
       "  'ремонт кондиционер цена',\n",
       "  'ремонт обслуживание кондиционер',\n",
       "  'ремонт установка кондиционер',\n",
       "  'сервисный обслуживание кондиционер цена',\n",
       "  'сколько стоить обслуживание кондиционер',\n",
       "  'срочный ремонт кондиционер',\n",
       "  'стоимость обслуживание кондиционер',\n",
       "  'технический обслуживание кондиционер стоимость',\n",
       "  'технический обслуживание кондиционер цена',\n",
       "  'техобслуживание кондиционер',\n",
       "  'чистка кондиционер'})"
      ]
     },
     "execution_count": 155,
     "metadata": {},
     "output_type": "execute_result"
    }
   ],
   "source": [
    "relevance(nvecs[1],ndocs[1])"
   ]
  },
  {
   "cell_type": "markdown",
   "metadata": {},
   "source": [
    "### Tf-idf"
   ]
  },
  {
   "cell_type": "code",
   "execution_count": 17,
   "metadata": {
    "collapsed": true
   },
   "outputs": [],
   "source": [
    "nvecs = [TextNormalizer.normalize(text) for text in vecs]"
   ]
  },
  {
   "cell_type": "code",
   "execution_count": 18,
   "metadata": {
    "collapsed": true
   },
   "outputs": [],
   "source": [
    "ndocs = [TextNormalizer.normalize(doc) for doc in docs]"
   ]
  },
  {
   "cell_type": "code",
   "execution_count": 19,
   "metadata": {
    "collapsed": true
   },
   "outputs": [],
   "source": [
    "dct = Dictionary(nvecs)"
   ]
  },
  {
   "cell_type": "code",
   "execution_count": 20,
   "metadata": {
    "collapsed": true
   },
   "outputs": [],
   "source": [
    "vec_corpus = [dct.doc2bow(vec) for vec in nvecs]"
   ]
  },
  {
   "cell_type": "code",
   "execution_count": 21,
   "metadata": {
    "collapsed": true
   },
   "outputs": [],
   "source": [
    "doc_corpus = [dct.doc2bow(doc) for doc in ndocs]"
   ]
  },
  {
   "cell_type": "code",
   "execution_count": 23,
   "metadata": {
    "collapsed": true
   },
   "outputs": [],
   "source": [
    "model = TfidfModel(vec_corpus,dictionary=dct)"
   ]
  },
  {
   "cell_type": "code",
   "execution_count": 24,
   "metadata": {
    "collapsed": true
   },
   "outputs": [],
   "source": [
    "tf_vecs = [model[vec] for vec in vec_corpus]"
   ]
  },
  {
   "cell_type": "code",
   "execution_count": 25,
   "metadata": {
    "collapsed": true
   },
   "outputs": [],
   "source": [
    "tf_docs = [model[doc] for doc in doc_corpus]"
   ]
  },
  {
   "cell_type": "code",
   "execution_count": 26,
   "metadata": {
    "collapsed": true
   },
   "outputs": [],
   "source": [
    "index = similarities.SparseMatrixSimilarity(tf_vecs, num_features=dct.num_pos)"
   ]
  },
  {
   "cell_type": "code",
   "execution_count": 36,
   "metadata": {
    "collapsed": false
   },
   "outputs": [
    {
     "data": {
      "text/plain": [
       "array([0.07533741, 0.06170711, 0.10711007, 0.78122646], dtype=float32)"
      ]
     },
     "execution_count": 36,
     "metadata": {},
     "output_type": "execute_result"
    }
   ],
   "source": [
    "index[tf_docs[3]]"
   ]
  },
  {
   "cell_type": "code",
   "execution_count": null,
   "metadata": {
    "collapsed": false
   },
   "outputs": [],
   "source": []
  },
  {
   "cell_type": "code",
   "execution_count": null,
   "metadata": {
    "collapsed": true
   },
   "outputs": [],
   "source": []
  }
 ],
 "metadata": {
  "anaconda-cloud": {},
  "kernelspec": {
   "display_name": "Python [conda root]",
   "language": "python",
   "name": "conda-root-py"
  },
  "language_info": {
   "codemirror_mode": {
    "name": "ipython",
    "version": 3
   },
   "file_extension": ".py",
   "mimetype": "text/x-python",
   "name": "python",
   "nbconvert_exporter": "python",
   "pygments_lexer": "ipython3",
   "version": "3.5.2"
  }
 },
 "nbformat": 4,
 "nbformat_minor": 1
}
