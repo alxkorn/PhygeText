{
 "cells": [
  {
   "cell_type": "code",
   "execution_count": 166,
   "metadata": {
    "collapsed": true
   },
   "outputs": [],
   "source": [
    "from TextNormalizer import TextNormalizer\n",
    "from flashtext import KeywordProcessor\n",
    "import re\n",
    "import pickle"
   ]
  },
  {
   "cell_type": "code",
   "execution_count": 152,
   "metadata": {
    "collapsed": false
   },
   "outputs": [],
   "source": [
    "def save_bin(fname,var):\n",
    "    with open(fname,'wb') as fp:\n",
    "        pickle.dump(var,fp)"
   ]
  },
  {
   "cell_type": "code",
   "execution_count": 74,
   "metadata": {
    "collapsed": false
   },
   "outputs": [],
   "source": [
    "def load_bin(fname):\n",
    "    with open(fname,'rb') as fp:\n",
    "        return pickle.load(fp)"
   ]
  },
  {
   "cell_type": "code",
   "execution_count": 86,
   "metadata": {
    "collapsed": true
   },
   "outputs": [],
   "source": [
    "def load_txt(fname,vec_delim = '/',phrase_delim='\\n'):\n",
    "    with open(fname) as f:\n",
    "        return [list(filter(lambda x: x!='',elem.split(phrase_delim))) for elem in f.read().split(vec_delim)]"
   ]
  },
  {
   "cell_type": "code",
   "execution_count": 103,
   "metadata": {
    "collapsed": true
   },
   "outputs": [],
   "source": [
    "def normalize_vecs(vecs):\n",
    "    return [[' '.join(TextNormalizer.normalize(phrase)) for phrase in vec] for vec in vecs]"
   ]
  },
  {
   "cell_type": "code",
   "execution_count": 104,
   "metadata": {
    "collapsed": false
   },
   "outputs": [],
   "source": [
    "def normalize_docs(docs):\n",
    "    return [' '.join(TextNormalizer.normalize(doc)) for doc in docs]"
   ]
  },
  {
   "cell_type": "code",
   "execution_count": 162,
   "metadata": {
    "collapsed": true
   },
   "outputs": [],
   "source": [
    "docs = load_bin('docs.txt')"
   ]
  },
  {
   "cell_type": "code",
   "execution_count": 212,
   "metadata": {
    "collapsed": true
   },
   "outputs": [],
   "source": [
    "sdocs = [[' '.join(TextNormalizer.normalize(sent)) for sent in re.split('\\. |! |\\?',doc)] for doc in docs]"
   ]
  },
  {
   "cell_type": "code",
   "execution_count": 154,
   "metadata": {
    "collapsed": false
   },
   "outputs": [],
   "source": [
    "nvecs = load_bin('nvecs')\n",
    "ndocs = load_bin('ndocs')"
   ]
  },
  {
   "cell_type": "code",
   "execution_count": 209,
   "metadata": {
    "collapsed": true
   },
   "outputs": [],
   "source": [
    "def locate_phrase(phrase, sentence):\n",
    "    ph_words = phrase.split()\n",
    "    keyword_processor = KeywordProcessor()\n",
    "    for word in ph_words:\n",
    "        keyword_processor.add_keyword(word)\n",
    "    found_words = ' '.join(keyword_processor.extract_keywords(sentence))\n",
    "    keyword_processor = KeywordProcessor()\n",
    "    keyword_processor.add_keyword(phrase)\n",
    "    for elem in found_words:\n",
    "        found = keyword_processor.extract_keywords(found_words)\n",
    "        if found:\n",
    "            return found\n",
    "    return []"
   ]
  },
  {
   "cell_type": "code",
   "execution_count": 219,
   "metadata": {
    "collapsed": true
   },
   "outputs": [],
   "source": [
    "def relevance(vec,doc):\n",
    "    found_phrases = []\n",
    "    for phrase in vec:\n",
    "        for sent in doc:\n",
    "            found = locate_phrase(phrase,sent)\n",
    "            if found:\n",
    "                found_phrases.append(found[0])\n",
    "                break\n",
    "    relevance = len(found_phrases)/len(vec)\n",
    "    missing_phrases = set(vec).difference(set(found_phrases))\n",
    "    return relevance, missing_phrases"
   ]
  },
  {
   "cell_type": "code",
   "execution_count": 220,
   "metadata": {
    "collapsed": false
   },
   "outputs": [
    {
     "data": {
      "text/plain": [
       "(0.30864197530864196,\n",
       " {'lg сплит',\n",
       "  'бытовой кондиционер',\n",
       "  'вентилятор',\n",
       "  'домашний кондиционер',\n",
       "  'инвертор кондиционер',\n",
       "  'инверторный кондиционер',\n",
       "  'инверторный сплит система',\n",
       "  'канальный кондиционер',\n",
       "  'канальный тип',\n",
       "  'кассетный кондиционер',\n",
       "  'колонный кондиционер',\n",
       "  'комнатный кондиционер',\n",
       "  'кондиционер 12',\n",
       "  'кондиционер daikin',\n",
       "  'кондиционер fujitsu',\n",
       "  'кондиционер gree',\n",
       "  'кондиционер hitachi',\n",
       "  'кондиционер lg',\n",
       "  'кондиционер mitsubishi',\n",
       "  'кондиционер panasonic',\n",
       "  'кондиционер samsung',\n",
       "  'кондиционер акция',\n",
       "  'кондиционер воздуховод',\n",
       "  'кондиционер воронеж',\n",
       "  'кондиционер дайкина',\n",
       "  'кондиционер дом',\n",
       "  'кондиционер дёшево',\n",
       "  'кондиционер киев купить',\n",
       "  'кондиционер киев цена',\n",
       "  'кондиционер лджи',\n",
       "  'кондиционер лессара',\n",
       "  'кондиционер лж',\n",
       "  'кондиционер митсубись',\n",
       "  'кондиционер недорого москва',\n",
       "  'кондиционер оптом',\n",
       "  'кондиционер отзыв',\n",
       "  'кондиционер официальный сайт',\n",
       "  'кондиционер панасоник',\n",
       "  'кондиционер самсунг',\n",
       "  'кондиционер сплит',\n",
       "  'кондиционер сплит система',\n",
       "  'кондиционер цена',\n",
       "  'кондиционер цена москва',\n",
       "  'купить инверторный кондиционер',\n",
       "  'купить кондиционер дёшево',\n",
       "  'купить кондиционер интернет',\n",
       "  'купить кондиционер интернет магазин',\n",
       "  'купить кондиционер магазин',\n",
       "  'купить кондиционер недорого',\n",
       "  'купить кондиционер недорого установка',\n",
       "  'купить кондиционер установка москва',\n",
       "  'купить кондиционер цена',\n",
       "  'купить оконный кондиционер',\n",
       "  'купить сплит',\n",
       "  'купить сплит система',\n",
       "  'купить установить кондиционер',\n",
       "  'магазин кондиционер спб',\n",
       "  'марка кондиционер',\n",
       "  'мобильный кондиционер купить',\n",
       "  'монтаж вентиляция',\n",
       "  'монтаж кондиционер москва',\n",
       "  'монтаж кондиционер цена',\n",
       "  'монтаж сплит система',\n",
       "  'мультя сплит',\n",
       "  'мультя сплит система',\n",
       "  'настенный кондиционер',\n",
       "  'недорогой кондиционер установка',\n",
       "  'оконный кондиционер',\n",
       "  'потолочный кондиционер',\n",
       "  'принцип работа кондиционер',\n",
       "  'продажа кондиционер',\n",
       "  'продажа сплит система',\n",
       "  'продажа установка кондиционер',\n",
       "  'промышленный кондиционер',\n",
       "  'рейтинг кондиционер',\n",
       "  'ремонт сплит система',\n",
       "  'сайт кондиционер',\n",
       "  'система кондиционирование',\n",
       "  'сколько стоить кондиционер',\n",
       "  'сколько стоить установка кондиционер',\n",
       "  'сплит система lg',\n",
       "  'сплит система волгоград',\n",
       "  'сплит система краснодар',\n",
       "  'сплит система купить',\n",
       "  'сплит система ростов',\n",
       "  'сплит система установка',\n",
       "  'сплит система цена',\n",
       "  'спреть кондиционер',\n",
       "  'стоимость кондиционер',\n",
       "  'стоимость установка кондиционер',\n",
       "  'тип кондиционер',\n",
       "  'установить кондиционер',\n",
       "  'установка кондиционер москва недорого',\n",
       "  'установка кондиционер москва цена',\n",
       "  'установка кондиционер недорого',\n",
       "  'установка кондиционер цена',\n",
       "  'установка сплит система краснодар'})"
      ]
     },
     "execution_count": 220,
     "metadata": {},
     "output_type": "execute_result"
    }
   ],
   "source": [
    "relevance(nvecs[0],sdocs[0])"
   ]
  },
  {
   "cell_type": "markdown",
   "metadata": {},
   "source": [
    "### Tf-idf"
   ]
  },
  {
   "cell_type": "code",
   "execution_count": 17,
   "metadata": {
    "collapsed": true
   },
   "outputs": [],
   "source": [
    "nvecs = [TextNormalizer.normalize(text) for text in vecs]"
   ]
  },
  {
   "cell_type": "code",
   "execution_count": 18,
   "metadata": {
    "collapsed": true
   },
   "outputs": [],
   "source": [
    "ndocs = [TextNormalizer.normalize(doc) for doc in docs]"
   ]
  },
  {
   "cell_type": "code",
   "execution_count": 19,
   "metadata": {
    "collapsed": true
   },
   "outputs": [],
   "source": [
    "dct = Dictionary(nvecs)"
   ]
  },
  {
   "cell_type": "code",
   "execution_count": 20,
   "metadata": {
    "collapsed": true
   },
   "outputs": [],
   "source": [
    "vec_corpus = [dct.doc2bow(vec) for vec in nvecs]"
   ]
  },
  {
   "cell_type": "code",
   "execution_count": 21,
   "metadata": {
    "collapsed": true
   },
   "outputs": [],
   "source": [
    "doc_corpus = [dct.doc2bow(doc) for doc in ndocs]"
   ]
  },
  {
   "cell_type": "code",
   "execution_count": 23,
   "metadata": {
    "collapsed": true
   },
   "outputs": [],
   "source": [
    "model = TfidfModel(vec_corpus,dictionary=dct)"
   ]
  },
  {
   "cell_type": "code",
   "execution_count": 24,
   "metadata": {
    "collapsed": true
   },
   "outputs": [],
   "source": [
    "tf_vecs = [model[vec] for vec in vec_corpus]"
   ]
  },
  {
   "cell_type": "code",
   "execution_count": 25,
   "metadata": {
    "collapsed": true
   },
   "outputs": [],
   "source": [
    "tf_docs = [model[doc] for doc in doc_corpus]"
   ]
  },
  {
   "cell_type": "code",
   "execution_count": 26,
   "metadata": {
    "collapsed": true
   },
   "outputs": [],
   "source": [
    "index = similarities.SparseMatrixSimilarity(tf_vecs, num_features=dct.num_pos)"
   ]
  },
  {
   "cell_type": "code",
   "execution_count": 36,
   "metadata": {
    "collapsed": false
   },
   "outputs": [
    {
     "data": {
      "text/plain": [
       "array([0.07533741, 0.06170711, 0.10711007, 0.78122646], dtype=float32)"
      ]
     },
     "execution_count": 36,
     "metadata": {},
     "output_type": "execute_result"
    }
   ],
   "source": [
    "index[tf_docs[3]]"
   ]
  },
  {
   "cell_type": "code",
   "execution_count": null,
   "metadata": {
    "collapsed": false
   },
   "outputs": [],
   "source": []
  },
  {
   "cell_type": "code",
   "execution_count": null,
   "metadata": {
    "collapsed": true
   },
   "outputs": [],
   "source": []
  }
 ],
 "metadata": {
  "anaconda-cloud": {},
  "kernelspec": {
   "display_name": "Python [conda root]",
   "language": "python",
   "name": "conda-root-py"
  },
  "language_info": {
   "codemirror_mode": {
    "name": "ipython",
    "version": 3
   },
   "file_extension": ".py",
   "mimetype": "text/x-python",
   "name": "python",
   "nbconvert_exporter": "python",
   "pygments_lexer": "ipython3",
   "version": "3.5.2"
  }
 },
 "nbformat": 4,
 "nbformat_minor": 1
}
