{
 "cells": [
  {
   "cell_type": "code",
   "execution_count": 77,
   "metadata": {
    "collapsed": true
   },
   "outputs": [],
   "source": [
    "from TextNormalizer import TextNormalizer\n",
    "from flashtext import KeywordProcessor\n",
    "import pickle"
   ]
  },
  {
   "cell_type": "code",
   "execution_count": 152,
   "metadata": {
    "collapsed": false
   },
   "outputs": [],
   "source": [
    "def save_bin(fname,var):\n",
    "    with open(fname,'wb') as fp:\n",
    "        pickle.dump(var,fp)"
   ]
  },
  {
   "cell_type": "code",
   "execution_count": 74,
   "metadata": {
    "collapsed": false
   },
   "outputs": [],
   "source": [
    "def load_bin(fname):\n",
    "    with open(fname,'rb') as fp:\n",
    "        return pickle.load(fp)"
   ]
  },
  {
   "cell_type": "code",
   "execution_count": 86,
   "metadata": {
    "collapsed": true
   },
   "outputs": [],
   "source": [
    "def load_txt(fname,vec_delim = '/',phrase_delim='\\n'):\n",
    "    with open(fname) as f:\n",
    "        return [list(filter(lambda x: x!='',elem.split(phrase_delim))) for elem in f.read().split(vec_delim)]"
   ]
  },
  {
   "cell_type": "code",
   "execution_count": 103,
   "metadata": {
    "collapsed": true
   },
   "outputs": [],
   "source": [
    "def normalize_vecs(vecs):\n",
    "    return [[' '.join(TextNormalizer.normalize(phrase)) for phrase in vec] for vec in vecs]"
   ]
  },
  {
   "cell_type": "code",
   "execution_count": 104,
   "metadata": {
    "collapsed": false
   },
   "outputs": [],
   "source": [
    "def normalize_docs(docs):\n",
    "    return [' '.join(TextNormalizer.normalize(doc)) for doc in docs]"
   ]
  },
  {
   "cell_type": "code",
   "execution_count": 154,
   "metadata": {
    "collapsed": false
   },
   "outputs": [],
   "source": [
    "nvecs = load_bin('nvecs')\n",
    "ndocs = load_bin('ndocs')"
   ]
  },
  {
   "cell_type": "code",
   "execution_count": 143,
   "metadata": {
    "collapsed": true
   },
   "outputs": [],
   "source": [
    "def relevance(vec,doc):\n",
    "    keyword_processor = KeywordProcessor()\n",
    "    for phrase in vec:\n",
    "        keyword_processor.add_keyword(phrase)\n",
    "    found_phrases = keyword_processor.extract_keywords(doc)\n",
    "    relevance = len(found_phrases)/len(vec)\n",
    "    missing_phrases = set(vec).difference(set(found_phrases))\n",
    "    return relevance, missing_phrases"
   ]
  },
  {
   "cell_type": "code",
   "execution_count": 155,
   "metadata": {
    "collapsed": false
   },
   "outputs": [
    {
     "data": {
      "text/plain": [
       "(0.2,\n",
       " {'обслуживание бытовой кондиционер',\n",
       "  'обслуживание кондиционер daikin',\n",
       "  'обслуживание кондиционер lg',\n",
       "  'обслуживание кондиционер mitsubishi',\n",
       "  'обслуживание кондиционер panasonic',\n",
       "  'обслуживание кондиционер работа',\n",
       "  'обслуживание кондиционер сплит система',\n",
       "  'обслуживание кондиционер цена',\n",
       "  'обслуживание сплит система',\n",
       "  'прайс обслуживание кондиционер',\n",
       "  'разовый обслуживание кондиционер',\n",
       "  'расценка обслуживание кондиционер',\n",
       "  'ремонт бытовой кондиционер',\n",
       "  'ремонт кондиционер цена',\n",
       "  'ремонт обслуживание кондиционер',\n",
       "  'ремонт установка кондиционер',\n",
       "  'сервисный обслуживание кондиционер цена',\n",
       "  'сколько стоить обслуживание кондиционер',\n",
       "  'срочный ремонт кондиционер',\n",
       "  'стоимость обслуживание кондиционер',\n",
       "  'технический обслуживание кондиционер стоимость',\n",
       "  'технический обслуживание кондиционер цена',\n",
       "  'техобслуживание кондиционер',\n",
       "  'чистка кондиционер'})"
      ]
     },
     "execution_count": 155,
     "metadata": {},
     "output_type": "execute_result"
    }
   ],
   "source": [
    "relevance(nvecs[1],ndocs[1])"
   ]
  },
  {
   "cell_type": "markdown",
   "metadata": {},
   "source": [
    "### Tf-idf"
   ]
  },
  {
   "cell_type": "code",
   "execution_count": 17,
   "metadata": {
    "collapsed": true
   },
   "outputs": [],
   "source": [
    "nvecs = [TextNormalizer.normalize(text) for text in vecs]"
   ]
  },
  {
   "cell_type": "code",
   "execution_count": 18,
   "metadata": {
    "collapsed": true
   },
   "outputs": [],
   "source": [
    "ndocs = [TextNormalizer.normalize(doc) for doc in docs]"
   ]
  },
  {
   "cell_type": "code",
   "execution_count": 19,
   "metadata": {
    "collapsed": true
   },
   "outputs": [],
   "source": [
    "dct = Dictionary(nvecs)"
   ]
  },
  {
   "cell_type": "code",
   "execution_count": 20,
   "metadata": {
    "collapsed": true
   },
   "outputs": [],
   "source": [
    "vec_corpus = [dct.doc2bow(vec) for vec in nvecs]"
   ]
  },
  {
   "cell_type": "code",
   "execution_count": 21,
   "metadata": {
    "collapsed": true
   },
   "outputs": [],
   "source": [
    "doc_corpus = [dct.doc2bow(doc) for doc in ndocs]"
   ]
  },
  {
   "cell_type": "code",
   "execution_count": 23,
   "metadata": {
    "collapsed": true
   },
   "outputs": [],
   "source": [
    "model = TfidfModel(vec_corpus,dictionary=dct)"
   ]
  },
  {
   "cell_type": "code",
   "execution_count": 24,
   "metadata": {
    "collapsed": true
   },
   "outputs": [],
   "source": [
    "tf_vecs = [model[vec] for vec in vec_corpus]"
   ]
  },
  {
   "cell_type": "code",
   "execution_count": 25,
   "metadata": {
    "collapsed": true
   },
   "outputs": [],
   "source": [
    "tf_docs = [model[doc] for doc in doc_corpus]"
   ]
  },
  {
   "cell_type": "code",
   "execution_count": 26,
   "metadata": {
    "collapsed": true
   },
   "outputs": [],
   "source": [
    "index = similarities.SparseMatrixSimilarity(tf_vecs, num_features=dct.num_pos)"
   ]
  },
  {
   "cell_type": "code",
   "execution_count": 36,
   "metadata": {
    "collapsed": false
   },
   "outputs": [
    {
     "data": {
      "text/plain": [
       "array([0.07533741, 0.06170711, 0.10711007, 0.78122646], dtype=float32)"
      ]
     },
     "execution_count": 36,
     "metadata": {},
     "output_type": "execute_result"
    }
   ],
   "source": [
    "index[tf_docs[3]]"
   ]
  },
  {
   "cell_type": "code",
   "execution_count": null,
   "metadata": {
    "collapsed": false
   },
   "outputs": [],
   "source": []
  },
  {
   "cell_type": "code",
   "execution_count": null,
   "metadata": {
    "collapsed": true
   },
   "outputs": [],
   "source": []
  }
 ],
 "metadata": {
  "anaconda-cloud": {},
  "kernelspec": {
   "display_name": "Python [conda root]",
   "language": "python",
   "name": "conda-root-py"
  },
  "language_info": {
   "codemirror_mode": {
    "name": "ipython",
    "version": 3
   },
   "file_extension": ".py",
   "mimetype": "text/x-python",
   "name": "python",
   "nbconvert_exporter": "python",
   "pygments_lexer": "ipython3",
   "version": "3.5.2"
  }
 },
 "nbformat": 4,
 "nbformat_minor": 1
}
